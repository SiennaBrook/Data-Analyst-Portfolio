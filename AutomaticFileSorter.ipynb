{
 "cells": [
  {
   "cell_type": "markdown",
   "id": "b5632817-fb20-480c-a42f-32d0350b54fd",
   "metadata": {},
   "source": [
    "Automatic File Sorter "
   ]
  },
  {
   "cell_type": "code",
   "execution_count": 76,
   "id": "748356a6-ba20-4cd8-82b0-8a416896f20b",
   "metadata": {},
   "outputs": [],
   "source": [
    "import os,shutil"
   ]
  },
  {
   "cell_type": "code",
   "execution_count": 77,
   "id": "c1f6cf04-f7a3-4a48-84cc-8e6aeb964c3b",
   "metadata": {},
   "outputs": [],
   "source": [
    "path = r\"D:/utsav app/\""
   ]
  },
  {
   "cell_type": "code",
   "execution_count": 78,
   "id": "7cf4fa8d-1f26-4325-b782-289e4abdfacd",
   "metadata": {},
   "outputs": [],
   "source": [
    "file_name = os.listdir(path)"
   ]
  },
  {
   "cell_type": "code",
   "execution_count": 79,
   "id": "bd80c31e-3449-4247-91bb-d94c8234ed70",
   "metadata": {},
   "outputs": [
    {
     "data": {
      "text/plain": [
       "True"
      ]
     },
     "execution_count": 79,
     "metadata": {},
     "output_type": "execute_result"
    }
   ],
   "source": [
    "os.path.exists(path)"
   ]
  },
  {
   "cell_type": "code",
   "execution_count": 88,
   "id": "7abe8671-d4be-4b54-a85e-594196833301",
   "metadata": {},
   "outputs": [
    {
     "name": "stdout",
     "output_type": "stream",
     "text": [
      "D:/utsav app/jpg files\n"
     ]
    }
   ],
   "source": [
    "folder_names=['pdf files','jpeg files','xlsx files','jpg files']\n",
    "\n",
    "for loop in range(0,4):\n",
    "    if not os.path.exists(path+folder_names[loop]):\n",
    "        #print(path+folder_names[loop])\n",
    "        os.makedirs(path+folder_names[loop])"
   ]
  },
  {
   "cell_type": "code",
   "execution_count": 100,
   "id": "4245272e-09bb-4067-a417-763460b62f7c",
   "metadata": {},
   "outputs": [],
   "source": [
    "for file in file_name:\n",
    "        if '.pdf' in file and not os.path.exists(path+\"pdf files/\"+file):\n",
    "            shutil.move(path+file,path+\"pdf files/\"+file)\n",
    "        elif '.jpeg' in file and not os.path.exists(path+\"jpeg files/\"+file):\n",
    "            shutil.move(path+file,path+\"jpeg files/\"+file)\n",
    "        elif '.jpg' in file and not os.path.exists(path+\"jpg files/\"+file):\n",
    "            shutil.move(path+file,path+\"jpg files/\"+file)\n",
    "    \n",
    "      "
   ]
  },
  {
   "cell_type": "code",
   "execution_count": null,
   "id": "ec98989f-1963-4eaa-978c-0910d910dbba",
   "metadata": {},
   "outputs": [],
   "source": []
  }
 ],
 "metadata": {
  "kernelspec": {
   "display_name": "Python 3 (ipykernel)",
   "language": "python",
   "name": "python3"
  },
  "language_info": {
   "codemirror_mode": {
    "name": "ipython",
    "version": 3
   },
   "file_extension": ".py",
   "mimetype": "text/x-python",
   "name": "python",
   "nbconvert_exporter": "python",
   "pygments_lexer": "ipython3",
   "version": "3.12.7"
  }
 },
 "nbformat": 4,
 "nbformat_minor": 5
}
